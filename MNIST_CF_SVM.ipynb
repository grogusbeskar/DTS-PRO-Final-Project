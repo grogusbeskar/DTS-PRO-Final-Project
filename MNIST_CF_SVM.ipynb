{
  "nbformat": 4,
  "nbformat_minor": 0,
  "metadata": {
    "colab": {
      "name": "MNIST CF SVM.ipynb",
      "provenance": [],
      "authorship_tag": "ABX9TyOeeEKiq9BiwatKQzTRFV9x",
      "include_colab_link": true
    },
    "kernelspec": {
      "name": "python3",
      "display_name": "Python 3"
    },
    "language_info": {
      "name": "python"
    }
  },
  "cells": [
    {
      "cell_type": "markdown",
      "metadata": {
        "id": "view-in-github",
        "colab_type": "text"
      },
      "source": [
        "<a href=\"https://colab.research.google.com/github/grogusbeskar/DTS-PRO-Final-Project/blob/main/MNIST_CF_SVM.ipynb\" target=\"_parent\"><img src=\"https://colab.research.google.com/assets/colab-badge.svg\" alt=\"Open In Colab\"/></a>"
      ]
    },
    {
      "cell_type": "markdown",
      "metadata": {
        "id": "d-t8JxlwRD97"
      },
      "source": [
        "# **Klasifikasi SVM Terhadap Dataset MNIST**\n",
        "\n",
        "`# Dataset diambil sejumlah 10000 sampel dari total 60000 data`\n",
        "\n",
        "`# Sumber dataset`\n",
        "https://www.kaggle.com/oddrationale/mnist-in-csv\n",
        "\n",
        "`# Sumber kode `\n",
        "https://scikit-learn.org/stable/auto_examples/classification/plot_digits_classification.html#sphx-glr-auto-examples-classification-plot-digits-classification-py\n",
        "\n",
        "\n"
      ]
    },
    {
      "cell_type": "markdown",
      "metadata": {
        "id": "qNk5tiUvJeq-"
      },
      "source": [
        "# **Import Modul**"
      ]
    },
    {
      "cell_type": "code",
      "metadata": {
        "id": "tyOVYtDkt9Ot"
      },
      "source": [
        "import sklearn\n",
        "from sklearn import svm\n",
        "from sklearn import metrics\n",
        "import matplotlib.pyplot as plt\n",
        "import pandas as pd\n",
        "import seaborn as sns\n",
        "import warnings\n",
        "warnings.simplefilter(action='ignore', category=FutureWarning)"
      ],
      "execution_count": 62,
      "outputs": []
    },
    {
      "cell_type": "markdown",
      "metadata": {
        "id": "iZuqzstkJd14"
      },
      "source": [
        "# **CSV file ---> DataFrame**"
      ]
    },
    {
      "cell_type": "code",
      "metadata": {
        "id": "DUx6CC7I90mH"
      },
      "source": [
        "url = 'https://raw.githubusercontent.com/grogusbeskar/DTS-PRO-Final-Project/main/mnist_test.csv'\n",
        "mnist_test_df = pd.read_csv(url)"
      ],
      "execution_count": 63,
      "outputs": []
    },
    {
      "cell_type": "markdown",
      "metadata": {
        "id": "UjEpCfomJ6Rc"
      },
      "source": [
        "# **Melihat Distribusi Untuk Setiap Label**\n",
        "\n",
        "```\n",
        "Terdapat kecenderungan ke arah label 1, namun jika menggunakan seluruh dataset MNIST sekalipun tetap demikian, jadi boleh diabaikan\n",
        "```"
      ]
    },
    {
      "cell_type": "code",
      "metadata": {
        "colab": {
          "base_uri": "https://localhost:8080/",
          "height": 279
        },
        "id": "RkeebyvOGLO2",
        "outputId": "363d1a70-1bba-48b9-fcf5-140069fdff9a"
      },
      "source": [
        "sns.countplot(mnist_test_df['label'])\n",
        "plt.show()"
      ],
      "execution_count": 64,
      "outputs": [
        {
          "output_type": "display_data",
          "data": {
            "image/png": "[encoded data removed]",
            "text/plain": [
              "<Figure size 432x288 with 1 Axes>"
            ]
          },
          "metadata": {
            "tags": [],
            "needs_background": "light"
          }
        }
      ]
    },
    {
      "cell_type": "markdown",
      "metadata": {
        "id": "09B0WCdSLMrc"
      },
      "source": [
        "# **Slicing Dataframe Untuk Training & Testing**\n",
        "\n",
        "```\n",
        ".iloc untuk slicing berbasis integer location & .values untuk mengambil nilai dataframe tanpa mengambil nilai axenya\n",
        "```"
      ]
    },
    {
      "cell_type": "code",
      "metadata": {
        "colab": {
          "base_uri": "https://localhost:8080/"
        },
        "id": "9FRK-WkU697n",
        "outputId": "178eae76-6ddf-48d5-d10a-0d021d466da8"
      },
      "source": [
        "datag=mnist_test_df.iloc[:,1:].values\n",
        "labelg=mnist_test_df.iloc[:,0].values\n",
        "print(datag)\n",
        "print(labelg)"
      ],
      "execution_count": 46,
      "outputs": [
        {
          "output_type": "stream",
          "text": [
            "[[0 0 0 ... 0 0 0]\n",
            " [0 0 0 ... 0 0 0]\n",
            " [0 0 0 ... 0 0 0]\n",
            " ...\n",
            " [0 0 0 ... 0 0 0]\n",
            " [0 0 0 ... 0 0 0]\n",
            " [0 0 0 ... 0 0 0]]\n",
            "[7 2 1 ... 4 5 6]\n"
          ],
          "name": "stdout"
        }
      ]
    },
    {
      "cell_type": "markdown",
      "metadata": {
        "id": "IArdm2E6LioZ"
      },
      "source": [
        "# **Scaling Nilai Feature Dalam Interval (0~1)**\n",
        "\n",
        "```\n",
        "#Dilakukan pembagian terhadap 255 karena dataset ini berisi nilai dari masing-masing pixel dengan nilai 0-255 (hitam-putih)\n",
        "```"
      ]
    },
    {
      "cell_type": "code",
      "metadata": {
        "id": "UJPwSGvgJBXf"
      },
      "source": [
        "data_train=datag/255"
      ],
      "execution_count": 47,
      "outputs": []
    },
    {
      "cell_type": "markdown",
      "metadata": {
        "id": "PO_upJp8LxfU"
      },
      "source": [
        "# **Partisi Dataframe Menjadi Training Set & Testing Set**\n",
        "\n",
        "\n",
        "```\n",
        "# Pembagian data training & testing dengan proporsi 80% (8000) training dan 20% testing (2000)\n",
        "```\n",
        "\n"
      ]
    },
    {
      "cell_type": "code",
      "metadata": {
        "id": "l6M_iow07NSO"
      },
      "source": [
        "x_train, x_test, y_train, y_test = sklearn.model_selection.train_test_split(datag, labelg, test_size=0.2)"
      ],
      "execution_count": 48,
      "outputs": []
    },
    {
      "cell_type": "markdown",
      "metadata": {
        "id": "qd5o1pDPMVSH"
      },
      "source": [
        "# **Pemilihan Kernel SVM**\n",
        "\n",
        "\n",
        "```\n",
        "# Untuk kernel non-linear biasa digunakan radial-basis-function (rbf) atau polynomial (poly)\n",
        "```\n",
        "\n"
      ]
    },
    {
      "cell_type": "code",
      "metadata": {
        "id": "RhG1jJPN8l34"
      },
      "source": [
        "clf = svm.SVC(kernel=\"poly\")"
      ],
      "execution_count": 51,
      "outputs": []
    },
    {
      "cell_type": "markdown",
      "metadata": {
        "id": "kc-8_CykMalV"
      },
      "source": [
        "# **Fitting Model**"
      ]
    },
    {
      "cell_type": "code",
      "metadata": {
        "colab": {
          "base_uri": "https://localhost:8080/"
        },
        "id": "t95om45H-HF1",
        "outputId": "3f9df2a7-6791-4c24-959e-d9b7b770cfaa"
      },
      "source": [
        "clf.fit(x_train, y_train)"
      ],
      "execution_count": 53,
      "outputs": [
        {
          "output_type": "execute_result",
          "data": {
            "text/plain": [
              "SVC(C=1.0, break_ties=False, cache_size=200, class_weight=None, coef0=0.0,\n",
              "    decision_function_shape='ovr', degree=3, gamma='scale', kernel='poly',\n",
              "    max_iter=-1, probability=False, random_state=None, shrinking=True,\n",
              "    tol=0.001, verbose=False)"
            ]
          },
          "metadata": {
            "tags": []
          },
          "execution_count": 53
        }
      ]
    },
    {
      "cell_type": "markdown",
      "metadata": {
        "id": "n4ydo5iKMwBj"
      },
      "source": [
        "# **Kalkulasi Prediksi Kelas & Akurasi Klasifikasi**\n",
        "\n",
        "\n",
        "```\n",
        "# Akurasi klasifikasi diperoleh ~96%\n",
        "```\n",
        "\n"
      ]
    },
    {
      "cell_type": "code",
      "metadata": {
        "colab": {
          "base_uri": "https://localhost:8080/"
        },
        "id": "t_ssJL9Q84FA",
        "outputId": "5772686a-790f-4354-9d2f-e9d715b5f0c2"
      },
      "source": [
        "y_pred = clf.predict(x_test)\n",
        "acc = metrics.accuracy_score(y_test, y_pred)\n",
        "print(acc)"
      ],
      "execution_count": 54,
      "outputs": [
        {
          "output_type": "stream",
          "text": [
            "0.9615\n"
          ],
          "name": "stdout"
        }
      ]
    },
    {
      "cell_type": "markdown",
      "metadata": {
        "id": "HUvEBZy7OtjT"
      },
      "source": [
        "# **Plotting Classification Report**"
      ]
    },
    {
      "cell_type": "code",
      "metadata": {
        "colab": {
          "base_uri": "https://localhost:8080/"
        },
        "id": "UXvCYkSX-Ypj",
        "outputId": "b5765c41-9592-4f07-e18d-95fc862e4ca5"
      },
      "source": [
        "print(f\"Classification report for classifier {clf}:\\n\"\n",
        "      f\"{metrics.classification_report(y_test, y_pred)}\\n\")"
      ],
      "execution_count": 57,
      "outputs": [
        {
          "output_type": "stream",
          "text": [
            "Classification report for classifier SVC(C=1.0, break_ties=False, cache_size=200, class_weight=None, coef0=0.0,\n",
            "    decision_function_shape='ovr', degree=3, gamma='scale', kernel='poly',\n",
            "    max_iter=-1, probability=False, random_state=None, shrinking=True,\n",
            "    tol=0.001, verbose=False):\n",
            "              precision    recall  f1-score   support\n",
            "\n",
            "           0       0.97      0.98      0.98       217\n",
            "           1       0.93      1.00      0.96       219\n",
            "           2       0.96      0.94      0.95       217\n",
            "           3       0.95      0.95      0.95       202\n",
            "           4       0.95      0.99      0.97       180\n",
            "           5       0.97      0.95      0.96       198\n",
            "           6       0.98      0.96      0.97       188\n",
            "           7       0.97      0.93      0.95       212\n",
            "           8       0.96      0.97      0.97       168\n",
            "           9       0.97      0.95      0.96       199\n",
            "\n",
            "    accuracy                           0.96      2000\n",
            "   macro avg       0.96      0.96      0.96      2000\n",
            "weighted avg       0.96      0.96      0.96      2000\n",
            "\n",
            "\n"
          ],
          "name": "stdout"
        }
      ]
    },
    {
      "cell_type": "markdown",
      "metadata": {
        "id": "53ofX97RPZjM"
      },
      "source": [
        "# **Plotting Confusion Matrix** "
      ]
    },
    {
      "cell_type": "code",
      "metadata": {
        "colab": {
          "base_uri": "https://localhost:8080/",
          "height": 508
        },
        "id": "YcDdCZNZ9MZz",
        "outputId": "036e2e8b-7179-4b69-a7f4-7735c27c71f6"
      },
      "source": [
        "disp = metrics.plot_confusion_matrix(clf, x_test, y_test)\n",
        "disp.figure_.suptitle(\"Confusion Matrix\")\n",
        "print(f\"Confusion matrix:\\n{disp.confusion_matrix}\")\n",
        "\n",
        "plt.show()"
      ],
      "execution_count": 58,
      "outputs": [
        {
          "output_type": "stream",
          "text": [
            "Confusion matrix:\n",
            "[[213   0   0   0   0   1   2   0   1   0]\n",
            " [  0 218   0   0   0   0   1   0   0   0]\n",
            " [  2   1 204   4   2   0   0   1   2   1]\n",
            " [  0   3   2 191   0   4   0   1   1   0]\n",
            " [  0   0   1   0 178   0   0   0   0   1]\n",
            " [  0   5   0   3   0 188   0   0   2   0]\n",
            " [  2   2   0   0   3   0 181   0   0   0]\n",
            " [  1   3   4   2   1   0   0 197   0   4]\n",
            " [  0   2   1   0   0   0   0   2 163   0]\n",
            " [  1   0   0   2   4   0   0   2   0 190]]\n"
          ],
          "name": "stdout"
        },
        {
          "output_type": "display_data",
          "data": {
            "image/png": "[encoded data removed]",
            "text/plain": [
              "<Figure size 432x288 with 2 Axes>"
            ]
          },
          "metadata": {
            "tags": [],
            "needs_background": "light"
          }
        }
      ]
    }
  ]
}